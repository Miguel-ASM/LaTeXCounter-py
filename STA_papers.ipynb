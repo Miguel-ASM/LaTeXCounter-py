{
 "cells": [
  {
   "cell_type": "markdown",
   "metadata": {},
   "source": [
    "# Keyword analysis of STA papers"
   ]
  },
  {
   "cell_type": "code",
   "execution_count": 56,
   "metadata": {},
   "outputs": [],
   "source": [
    "import matplotlib.pyplot as plt # Plots\n",
    "import re #regular expresions\n",
    "import tarfile #open tarfiles\n",
    "import arxiv   #arXiv wrapper\n",
    "import numpy as np #numeric tools"
   ]
  },
  {
   "cell_type": "code",
   "execution_count": 57,
   "metadata": {},
   "outputs": [],
   "source": [
    "import os #Operative system utilities\n",
    "import sys #system\n",
    "sys.path.insert(0,'LaTeXCounter-py/')\n",
    "import LaTeXWordCounter as TeX #my functions to work with .tex files"
   ]
  },
  {
   "cell_type": "markdown",
   "metadata": {},
   "source": [
    "## Get the data set from the arXiv API\n",
    "\n",
    "Use the arXiv API wrapper to make a query of papers with the keywords *shortcuts* in the title or abstract and belonging to the arXiv category *quant_ph* (quantum physics)."
   ]
  },
  {
   "cell_type": "code",
   "execution_count": 58,
   "metadata": {},
   "outputs": [
    {
     "name": "stdout",
     "output_type": "stream",
     "text": [
      "Found 61 papers.\n"
     ]
    }
   ],
   "source": [
    "STA_papers = arxiv.query(query='all:transitionless AND cat:quant-ph'\n",
    "                         ,sort_by='submittedDate'\n",
    "                         ,max_results=500\n",
    ")\n",
    "print('Found',len(STA_papers),'papers.')"
   ]
  },
  {
   "cell_type": "code",
   "execution_count": 59,
   "metadata": {},
   "outputs": [],
   "source": [
    "STA_papers_dict = dict()"
   ]
  },
  {
   "cell_type": "code",
   "execution_count": 60,
   "metadata": {},
   "outputs": [],
   "source": [
    "for paper in STA_papers:\n",
    "    ID = paper['id'].split('/')[-1]\n",
    "    STA_papers_dict[ID] = paper"
   ]
  },
  {
   "cell_type": "code",
   "execution_count": 61,
   "metadata": {},
   "outputs": [
    {
     "data": {
      "text/plain": [
       "dict_keys(['2002.06134v1', '1909.02366v1', '1908.06443v1', '1906.08065v1', '1905.09524v2', '1810.10233v2', '1809.00102v1', '1807.10227v2', '1804.10983v1', '1803.10410v2', '1712.06773v2', '1711.06140v2', '1707.04022v1', '1706.06785v2', '1706.03925v1', '1705.08578v2', '1705.01695v3', '1703.07933v1', '1703.03610v3', '1702.02239v3', '1612.08779v1', '1610.09938v3', '1609.04662v4', '1608.03669v1', '1607.06503v1', '1607.00095v1', '1606.06796v1', '1605.07523v1', '1604.03321v2', '1603.07778v2', '1603.05057v2', '1602.08833v1', '1602.00050v4', '1509.00097v2', '1507.07082v1', '1506.07268v1', '1505.04372v2', '1505.01624v3', '1502.07880v1', '1412.2848v2', '1411.6747v6', '1410.1555v2', '1406.7138v1', '1403.4140v2', '1401.1352v1', '1310.5323v2', '1309.3020v2', '1307.6922v3', '1305.4967v1', '1305.4724v2', '1305.4207v1', '1212.3294v1', '1211.1586v1', '1209.3153v3', '1206.2670v1', '1111.1579v1', '1111.0035v1', '1106.2776v2', '1105.4227v1', '1102.3449v1', '0912.4178v1'])"
      ]
     },
     "execution_count": 61,
     "metadata": {},
     "output_type": "execute_result"
    }
   ],
   "source": [
    "STA_papers_dict.keys()"
   ]
  },
  {
   "cell_type": "markdown",
   "metadata": {},
   "source": [
    "## Cut the papers that were published before *Shortcut to adiabatic passage in two and three level atoms*"
   ]
  },
  {
   "cell_type": "markdown",
   "metadata": {},
   "source": [
    "#### Optionally, show all the results"
   ]
  },
  {
   "cell_type": "code",
   "execution_count": 8,
   "metadata": {},
   "outputs": [
    {
     "name": "stdout",
     "output_type": "stream",
     "text": [
      "DATE: 2020-02-26T16:49:01Z\n",
      "TITLE: Smooth bang-bang shortcuts to adiabaticity for atomic transport in a\n",
      "  moving harmonic trap \n",
      "\n",
      "\n",
      "DATE: 2020-02-14T17:35:31Z\n",
      "TITLE: Non-equilibrium thermodynamics of quantum processes assisted by\n",
      "  transitionless quantum driving: the role of initial state preparation \n",
      "\n",
      "\n",
      "DATE: 2020-02-14T11:31:48Z\n",
      "TITLE: Transport of atoms across an optical lattice using an external harmonic\n",
      "  potential \n",
      "\n",
      "\n",
      "DATE: 2020-02-11T19:00:32Z\n",
      "TITLE: Fast dynamical exchange cooling with trapped ions \n",
      "\n",
      "\n",
      "DATE: 2020-02-10T17:05:31Z\n",
      "TITLE: Noise Sensitivities for an Atom Shuttled by a Moving Optical Lattice via\n",
      "  Shortcuts to Adiabaticity \n",
      "\n",
      "\n",
      "DATE: 2020-02-10T10:16:26Z\n",
      "TITLE: Shortcuts to adiabaticity for an interacting Bose-Einstein condensate\n",
      "  via exact solutions of the generalized Ermakov equation \n",
      "\n",
      "\n",
      "DATE: 2020-01-27T11:13:11Z\n",
      "TITLE: Two-qubit quantum Fourier transform and entanglement protected by\n",
      "  circulant symmetry \n",
      "\n",
      "\n",
      "DATE: 2019-12-18T16:02:11Z\n",
      "TITLE: Many-body quantum heat engines with shortcuts to adiabaticity \n",
      "\n",
      "\n",
      "DATE: 2019-12-12T16:05:18Z\n",
      "TITLE: Quantum Control via Enhanced Shortcuts to Adiabaticity \n",
      "\n",
      "\n",
      "DATE: 2019-12-11T12:36:41Z\n",
      "TITLE: Quantum state engineering by shortcuts-to-adiabaticity in interacting\n",
      "  spin-boson systems \n",
      "\n",
      "\n",
      "DATE: 2019-11-01T13:41:01Z\n",
      "TITLE: Shortcut-to-adiabaticity quantum Otto refrigerator \n",
      "\n",
      "\n",
      "DATE: 2019-10-26T15:29:05Z\n",
      "TITLE: Shortcuts in open quantum systems : Superadiabatic control of an open\n",
      "  quantum oscillator \n",
      "\n",
      "\n",
      "DATE: 2019-10-15T08:11:05Z\n",
      "TITLE: Quantum speed limit and shortcuts to adiabaticity in coherent\n",
      "  many-particle systems \n",
      "\n",
      "\n",
      "DATE: 2019-10-09T07:47:19Z\n",
      "TITLE: The invariant based investigation of Shortcut to Adiabaticity for\n",
      "  Quantum Harmonic Oscillators under time varying frictional force \n",
      "\n",
      "\n",
      "DATE: 2019-10-02T03:36:00Z\n",
      "TITLE: Robust and highly-efficient discrimination of chiral molecules through\n",
      "  three-mode parallel paths \n",
      "\n",
      "\n"
     ]
    }
   ],
   "source": [
    "# for paper in STA_papers:\n",
    "#     print('DATE:',paper.get('published','N.A.'))\n",
    "#     print('TITLE:',paper.get('title','UNTITLED'),'\\n\\n') "
   ]
  },
  {
   "cell_type": "markdown",
   "metadata": {},
   "source": [
    "## Make a directory for the source files of the papers and download them"
   ]
  },
  {
   "cell_type": "code",
   "execution_count": 9,
   "metadata": {},
   "outputs": [],
   "source": [
    "source_folder = 'paper_source_files/'"
   ]
  },
  {
   "cell_type": "code",
   "execution_count": 10,
   "metadata": {},
   "outputs": [],
   "source": [
    "%mkdir paper_source_files"
   ]
  },
  {
   "cell_type": "markdown",
   "metadata": {},
   "source": [
    "Use the arXiv API wrapper function `download` to download the papers tarfiles ([I contributed to this feature!!!!](https://github.com/lukasschwab/arxiv.py/graphs/contributors))"
   ]
  },
  {
   "cell_type": "code",
   "execution_count": 12,
   "metadata": {},
   "outputs": [],
   "source": [
    "# This one takes a time to run, be patient\n",
    "\n",
    "# store_folder = 'paper_source_files'\n",
    "# for paper in STA_papers:\n",
    "#     arxiv.download(paper,dirpath=store_folder,prefer_source_tarfile=True)"
   ]
  },
  {
   "cell_type": "markdown",
   "metadata": {},
   "source": [
    "## Make a directory for the .tex files"
   ]
  },
  {
   "cell_type": "code",
   "execution_count": 13,
   "metadata": {},
   "outputs": [],
   "source": [
    "TeX_folder = 'paper_TeX_files/'"
   ]
  },
  {
   "cell_type": "code",
   "execution_count": 14,
   "metadata": {},
   "outputs": [],
   "source": [
    "%mkdir paper_TeX_files"
   ]
  },
  {
   "cell_type": "markdown",
   "metadata": {},
   "source": [
    "## Get the TeX files "
   ]
  },
  {
   "cell_type": "markdown",
   "metadata": {},
   "source": [
    "### function that returns the member in the tarball with TeX extension if it exists"
   ]
  },
  {
   "cell_type": "code",
   "execution_count": 15,
   "metadata": {},
   "outputs": [],
   "source": [
    "def returnTeXFileMember(tar_file):\n",
    "    for member in tar_file.getmembers():\n",
    "        if member.isfile() and member.name.lower().endswith('.tex'):\n",
    "            return member\n",
    "    return None"
   ]
  },
  {
   "cell_type": "markdown",
   "metadata": {},
   "source": [
    "## Loop over the files and extract them into ```paper_TeX_files/``` \n",
    "\n",
    "Some of the tarballs do not have a ```.tex``` file. Make a list of the ones that do not have one"
   ]
  },
  {
   "cell_type": "code",
   "execution_count": 16,
   "metadata": {},
   "outputs": [],
   "source": [
    "papers_withoutTeX = []\n",
    "papers_withTeX = []\n",
    "\n",
    "for filename in os.listdir(source_folder):\n",
    "    file = tarfile.open(source_folder+filename,'r')\n",
    "    TeXFileMember = returnTeXFileMember(file)\n",
    "    if TeXFileMember:\n",
    "        papers_withTeX.append(filename)\n",
    "        file.extract(TeXFileMember,path=TeX_folder)\n",
    "        #rename the file\n",
    "        os.rename(TeX_folder+TeXFileMember.name,TeX_folder+filename.replace('.tar.gz','.tex'))\n",
    "    else:\n",
    "        papers_withoutTeX.append(filename)\n",
    "    file.close()"
   ]
  },
  {
   "cell_type": "markdown",
   "metadata": {},
   "source": [
    "Remove empty folders"
   ]
  },
  {
   "cell_type": "code",
   "execution_count": 17,
   "metadata": {},
   "outputs": [],
   "source": [
    "for el in os.listdir(TeX_folder):\n",
    "    if os.path.isdir(TeX_folder+el):\n",
    "        os.removedirs(TeX_folder+el)\n",
    "        print('removed:',el)"
   ]
  },
  {
   "cell_type": "markdown",
   "metadata": {},
   "source": [
    "## Analyze the papers"
   ]
  },
  {
   "cell_type": "markdown",
   "metadata": {},
   "source": [
    "### 1. Use a dictionary to put all the keywords and their counts"
   ]
  },
  {
   "cell_type": "code",
   "execution_count": 18,
   "metadata": {},
   "outputs": [],
   "source": [
    "keywords = dict()"
   ]
  },
  {
   "cell_type": "markdown",
   "metadata": {},
   "source": [
    "### 2. Analyze all the .tex files"
   ]
  },
  {
   "cell_type": "code",
   "execution_count": 19,
   "metadata": {},
   "outputs": [
    {
     "name": "stdout",
     "output_type": "stream",
     "text": [
      "Failed:  0\n",
      "Successful:  15\n"
     ]
    }
   ],
   "source": [
    "succesful_attempts = 0 #count of analyzed files\n",
    "failed_attempts = 0    #count of files that throwed an exception when analyzing them\n",
    "failed = []            #list of failed files\n",
    "\n",
    "for TeX_file in os.listdir(TeX_folder):\n",
    "    #make sure only .tex files are treated: there are hidden files in the\n",
    "    #folder with unwanted extensions\n",
    "    if TeX_file.endswith('.tex'):\n",
    "        try:\n",
    "            TeX.analyzeTeXFile(TeX_folder+TeX_file,keywords)\n",
    "            succesful_attempts +=1\n",
    "        except:\n",
    "            failed_attempts +=1\n",
    "            failed.append(TeX_file)\n",
    "            os.remove(TeX_folder+TeX_file) #A bit of a nasty hack\n",
    "            \n",
    "print('Failed: ',failed_attempts)\n",
    "print('Successful: ',succesful_attempts)"
   ]
  },
  {
   "cell_type": "markdown",
   "metadata": {},
   "source": [
    "### Put the contents of the dictionary in a .txt file"
   ]
  },
  {
   "cell_type": "code",
   "execution_count": 20,
   "metadata": {},
   "outputs": [],
   "source": [
    "with open('raw_data.txt','w') as f_out:\n",
    "    for entry in sorted(keywords, key = lambda k:(-keywords[k],k)):\n",
    "        line = '{0}: {1}\\n'.format(entry,keywords[entry])\n",
    "        f_out.write(line)"
   ]
  },
  {
   "cell_type": "code",
   "execution_count": 21,
   "metadata": {},
   "outputs": [
    {
     "data": {
      "text/plain": [
       "83"
      ]
     },
     "execution_count": 21,
     "metadata": {},
     "output_type": "execute_result"
    }
   ],
   "source": [
    "keywords['shortcuts']"
   ]
  },
  {
   "cell_type": "code",
   "execution_count": null,
   "metadata": {},
   "outputs": [],
   "source": []
  }
 ],
 "metadata": {
  "kernelspec": {
   "display_name": "Python 3",
   "language": "python",
   "name": "python3"
  },
  "language_info": {
   "codemirror_mode": {
    "name": "ipython",
    "version": 3
   },
   "file_extension": ".py",
   "mimetype": "text/x-python",
   "name": "python",
   "nbconvert_exporter": "python",
   "pygments_lexer": "ipython3",
   "version": "3.7.6"
  }
 },
 "nbformat": 4,
 "nbformat_minor": 4
}
