{
 "cells": [
  {
   "cell_type": "markdown",
   "metadata": {},
   "source": [
    "# Keyword analysis of STA papers Part 1\n",
    "\n",
    "**In this notebook:**\n",
    "\n",
    "- I make a query of the papers I am interested in\n",
    "- I download them\n",
    "- I extract the .tex files\n",
    "- I make the word count in each of the .tex files.\n",
    "    \n",
    "**The output of the notebook is:**\n",
    "- The results of the query, stored in a ```JSON``` file: ```query_results.json```.\n",
    "- The arXiv IDs of the papers in ```query_results.json``` that don't have a ```.tex```file, stored in a text file: ```papers_withoutTeX.txt```\n",
    "- The arXiv IDs of the papers in ```query_results.json``` that have a ```.tex```file, stored in a text file: ```papers_withTeX.txt```\n",
    "- The arXiv IDs of the papers in ```papers_withTeX.txt``` that could be analyzed, stored in a text file: ```analyzed_papers.txt```\n",
    "- The results of the word count analysis of the .tex files in a ```JSON``` file: ```keywords.json``` "
   ]
  },
  {
   "cell_type": "markdown",
   "metadata": {},
   "source": [
    "## Import statements"
   ]
  },
  {
   "cell_type": "markdown",
   "metadata": {},
   "source": [
    "**Builtin modules:**"
   ]
  },
  {
   "cell_type": "code",
   "execution_count": null,
   "metadata": {},
   "outputs": [],
   "source": [
    "import re            #regular expresions\n",
    "import json          #JSON files utilities\n",
    "import os            #Operative system utilities\n",
    "import sys           #system\n",
    "import tarfile       #open tarfiles"
   ]
  },
  {
   "cell_type": "markdown",
   "metadata": {},
   "source": [
    "**Third party module:s**"
   ]
  },
  {
   "cell_type": "code",
   "execution_count": null,
   "metadata": {},
   "outputs": [],
   "source": [
    "import arxiv   #arXiv wrapper\n",
    "import texcounter as TeX #my functions to work with .tex files"
   ]
  },
  {
   "cell_type": "markdown",
   "metadata": {},
   "source": [
    "## Get the data set from the arXiv API\n",
    "\n",
    "Use the arXiv API wrapper to make a queries of papers from the arXiv belonging to the category *quant_ph* (quantum physics)."
   ]
  },
  {
   "cell_type": "markdown",
   "metadata": {},
   "source": [
    "**arXiv category:**"
   ]
  },
  {
   "cell_type": "code",
   "execution_count": null,
   "metadata": {},
   "outputs": [],
   "source": [
    "categories = [\n",
    "    'quant-ph',\n",
    "    'cond-mat'\n",
    "] "
   ]
  },
  {
   "cell_type": "markdown",
   "metadata": {},
   "source": [
    "**List of query keywords**"
   ]
  },
  {
   "cell_type": "code",
   "execution_count": null,
   "metadata": {},
   "outputs": [],
   "source": [
    "query_keywords = [\n",
    "    'shortcuts'\n",
    "    ,'counterdiabatic'\n",
    "    ,'transitionless'\n",
    "]"
   ]
  },
  {
   "cell_type": "markdown",
   "metadata": {},
   "source": [
    "**Max number of results for each query:**"
   ]
  },
  {
   "cell_type": "code",
   "execution_count": null,
   "metadata": {},
   "outputs": [],
   "source": [
    "max_results = 5;"
   ]
  },
  {
   "cell_type": "markdown",
   "metadata": {},
   "source": [
    "**Container of the results:**"
   ]
  },
  {
   "cell_type": "code",
   "execution_count": null,
   "metadata": {},
   "outputs": [],
   "source": [
    "papers_list = []\n",
    "results = 0"
   ]
  },
  {
   "cell_type": "markdown",
   "metadata": {},
   "source": [
    "**Make a query for each category and query keyword:**"
   ]
  },
  {
   "cell_type": "code",
   "execution_count": null,
   "metadata": {},
   "outputs": [],
   "source": [
    "for cat in categories:\n",
    "    for key_word in query_keywords:\n",
    "        results = len(papers_list)\n",
    "        query_string = 'all:{} AND cat:{}'.format(key_word,cat)\n",
    "        papers_list.extend(\n",
    "            arxiv.query(\n",
    "                        query=query_string,\n",
    "                        sort_by='submittedDate',\n",
    "                        max_results=max_results\n",
    "                       )\n",
    "        )\n",
    "        print(\"'{}' returned {} results.\\n\".format(query_string,len(papers_list)-results))\n",
    "    \n",
    "results = len(papers_list)  \n",
    "print('\\n\\n*** Returned',results,'results in total **\\n\\n')"
   ]
  },
  {
   "cell_type": "markdown",
   "metadata": {},
   "source": [
    "**To avoid duplicates create a dictionary where the keys are arXiv IDs and the content is the query result:**"
   ]
  },
  {
   "cell_type": "code",
   "execution_count": null,
   "metadata": {},
   "outputs": [],
   "source": [
    "papers_dict = dict()\n",
    "\n",
    "for paper in papers_list:\n",
    "    ID = paper['id'].split('/')[-1]\n",
    "    papers_dict[ID] = papers_dict.get(ID,paper)\n",
    "\n",
    "    \n",
    "print('Number of papers without duplicates:',len(papers_dict))\n"
   ]
  },
  {
   "cell_type": "markdown",
   "metadata": {},
   "source": [
    "**Some papers may have more than one version, keep only the newest version (TO DO):**"
   ]
  },
  {
   "cell_type": "code",
   "execution_count": null,
   "metadata": {},
   "outputs": [],
   "source": [
    "# # First, sorted the dictionary IDS\n",
    "# sorted_IDs = sorted(papers_dict.keys())\n",
    "# len(sorted_IDs)"
   ]
  },
  {
   "cell_type": "code",
   "execution_count": null,
   "metadata": {},
   "outputs": [],
   "source": [
    "# # list of sorted IDs without version number\n",
    "# IDs_no_version = list(dict.fromkeys([ID[:ID.find('v')] for ID in sorted_IDs]))\n",
    "# len(IDs_no_version)"
   ]
  },
  {
   "cell_type": "markdown",
   "metadata": {},
   "source": [
    "**Save the dictionary with the results of the query in a JSON file:**"
   ]
  },
  {
   "cell_type": "code",
   "execution_count": null,
   "metadata": {},
   "outputs": [],
   "source": [
    "json_file = json.dumps(papers_dict)\n",
    "with open(\"query_results.json\",\"w\") as f:\n",
    "    f.write(json_file)"
   ]
  },
  {
   "cell_type": "markdown",
   "metadata": {},
   "source": [
    "## Make a directory for the source files of the papers and download them"
   ]
  },
  {
   "cell_type": "code",
   "execution_count": null,
   "metadata": {},
   "outputs": [],
   "source": [
    "source_folder = 'paper_source_files/'"
   ]
  },
  {
   "cell_type": "code",
   "execution_count": null,
   "metadata": {},
   "outputs": [],
   "source": [
    "%mkdir paper_source_files"
   ]
  },
  {
   "cell_type": "markdown",
   "metadata": {},
   "source": [
    "**Use the arXiv API wrapper function `download` to download the papers tarfiles ([I contributed to this feature!!!!](https://github.com/lukasschwab/arxiv.py/graphs/contributors))**"
   ]
  },
  {
   "cell_type": "code",
   "execution_count": null,
   "metadata": {},
   "outputs": [],
   "source": [
    "# # This one takes a time to run, be patient.\n",
    "# # Let this cell comented if it is not going to be used.\n",
    "\n",
    "# for paper in papers_dict:\n",
    "#     arxiv.download(papers_dict[paper],dirpath=source_folder,prefer_source_tarfile=True)"
   ]
  },
  {
   "cell_type": "markdown",
   "metadata": {},
   "source": [
    "**The names are too long, keep only the arXiv IDs**"
   ]
  },
  {
   "cell_type": "code",
   "execution_count": null,
   "metadata": {},
   "outputs": [],
   "source": [
    "for filename in os.listdir(source_folder):\n",
    "    if filename.endswith('.tar.gz'):\n",
    "        newname = re.sub('\\w+\\.tar\\.gz','tar.gz',filename)\n",
    "        os.rename(source_folder+filename,source_folder+newname)"
   ]
  },
  {
   "cell_type": "markdown",
   "metadata": {},
   "source": [
    "## Make a directory for the .tex files"
   ]
  },
  {
   "cell_type": "code",
   "execution_count": null,
   "metadata": {},
   "outputs": [],
   "source": [
    "TeX_folder = 'paper_TeX_files/'"
   ]
  },
  {
   "cell_type": "code",
   "execution_count": null,
   "metadata": {},
   "outputs": [],
   "source": [
    "%mkdir paper_TeX_files"
   ]
  },
  {
   "cell_type": "markdown",
   "metadata": {},
   "source": [
    "## Get the TeX files "
   ]
  },
  {
   "cell_type": "markdown",
   "metadata": {},
   "source": [
    "**function that returns the member in the tarball with TeX extension if it exists:**"
   ]
  },
  {
   "cell_type": "code",
   "execution_count": null,
   "metadata": {},
   "outputs": [],
   "source": [
    "def returnTeXFileMember(tar_file):\n",
    "    for member in tar_file.getmembers():\n",
    "        if member.isfile() and member.name.lower().endswith('.tex'):\n",
    "            return member\n",
    "    return None"
   ]
  },
  {
   "cell_type": "markdown",
   "metadata": {},
   "source": [
    "**Loop over the files and extract them into ```paper_TeX_files/```**\n",
    "\n",
    "Some of the tarballs do not have a ```.tex``` file. Make a list of the ones that do not have one"
   ]
  },
  {
   "cell_type": "code",
   "execution_count": null,
   "metadata": {},
   "outputs": [],
   "source": [
    "papers_withoutTeX = []\n",
    "papers_withTeX = []\n",
    "\n",
    "for filename in os.listdir(source_folder):\n",
    "    with tarfile.open(source_folder+filename,'r') as file:\n",
    "        #file = tarfile.open(source_folder+filename,'r')\n",
    "        TeXFileMember = returnTeXFileMember(file)\n",
    "        if TeXFileMember:\n",
    "            papers_withTeX.append(filename)\n",
    "            file.extract(TeXFileMember,path=TeX_folder)\n",
    "            #rename the file\n",
    "            os.rename(TeX_folder+TeXFileMember.name,TeX_folder+filename.replace('.tar.gz','.tex'))\n",
    "        else:\n",
    "            papers_withoutTeX.append(filename)\n",
    "        #file.close()"
   ]
  },
  {
   "cell_type": "markdown",
   "metadata": {},
   "source": [
    "Remove empty folders"
   ]
  },
  {
   "cell_type": "code",
   "execution_count": null,
   "metadata": {},
   "outputs": [],
   "source": [
    "for el in os.listdir(TeX_folder):\n",
    "    if os.path.isdir(TeX_folder+el):\n",
    "        os.removedirs(TeX_folder+el)\n",
    "        print('removed:',el)"
   ]
  },
  {
   "cell_type": "markdown",
   "metadata": {},
   "source": [
    "**adapt the names in the lists for the papers to be just the arXiv id**"
   ]
  },
  {
   "cell_type": "code",
   "execution_count": null,
   "metadata": {},
   "outputs": [],
   "source": [
    "papers_withoutTeX = [ paper.replace('.tar.gz','') for paper in papers_withoutTeX ]\n",
    "papers_withTeX = [ paper.replace('.tar.gz','') for paper in papers_withTeX ]"
   ]
  },
  {
   "cell_type": "markdown",
   "metadata": {},
   "source": [
    "**Keep record of the papers that have .tex and the ones that don't:**"
   ]
  },
  {
   "cell_type": "code",
   "execution_count": null,
   "metadata": {},
   "outputs": [],
   "source": [
    "with open(\"papers_withTeX.txt\",'w') as f:\n",
    "    f.write('\\n'.join( papers_withTeX ))\n",
    "\n",
    "with open(\"papers_withoutTeX.txt\",'w') as f:\n",
    "    f.write('\\n'.join( papers_withoutTeX ))"
   ]
  },
  {
   "cell_type": "markdown",
   "metadata": {
    "toc-hr-collapsed": true,
    "toc-nb-collapsed": true
   },
   "source": [
    "## Analyze the papers"
   ]
  },
  {
   "cell_type": "markdown",
   "metadata": {},
   "source": [
    "### 1. Use a dictionary to put all the keywords and their counts"
   ]
  },
  {
   "cell_type": "code",
   "execution_count": null,
   "metadata": {},
   "outputs": [],
   "source": [
    "keywords_count = dict()"
   ]
  },
  {
   "cell_type": "markdown",
   "metadata": {},
   "source": [
    "### 2. Use a dictionary that relates every word with a list of the pappers in which it appears"
   ]
  },
  {
   "cell_type": "code",
   "execution_count": null,
   "metadata": {},
   "outputs": [],
   "source": [
    "keywords_papers = dict()"
   ]
  },
  {
   "cell_type": "markdown",
   "metadata": {},
   "source": [
    "### 3. Analyze the papers"
   ]
  },
  {
   "cell_type": "code",
   "execution_count": null,
   "metadata": {},
   "outputs": [],
   "source": [
    "failed = list()            #list of failed files\n",
    "succeeded = list()         #list of analyzed files\n",
    "\n",
    "for TeX_file in os.listdir(TeX_folder):\n",
    "    #make sure only .tex files are treated: there are hidden files in the\n",
    "    #folder with unwanted extensions\n",
    "    if TeX_file.endswith('.tex'):\n",
    "        paperID = TeX_file.replace('.tex','')\n",
    "        try:\n",
    "            paper_words = TeX.analyzeTeXFile(TeX_folder+TeX_file,keywords_count)\n",
    "            for word in paper_words:\n",
    "                keywords_papers[word] = keywords_papers.get(word,list())\n",
    "                keywords_papers[word].append((paperID,paper_words[word]))\n",
    "            succeeded.append( paperID )\n",
    "        except:\n",
    "            failed.append( paperID )\n",
    "            #os.remove(TeX_folder+TeX_file) #A bit of a nasty hack\n",
    "          \n",
    "print('Failed: ',len(failed))\n",
    "print('Successful: ',len(succeeded))"
   ]
  },
  {
   "cell_type": "markdown",
   "metadata": {},
   "source": [
    "### 4. Save the list of the papers that were analyzed"
   ]
  },
  {
   "cell_type": "code",
   "execution_count": null,
   "metadata": {},
   "outputs": [],
   "source": [
    "with open('analyzed_papers.txt','w') as f_out:\n",
    "    f_out.write('\\n'.join(succeeded))"
   ]
  },
  {
   "cell_type": "markdown",
   "metadata": {},
   "source": [
    "### 5. Create a dictionary keeping track of the keywords: their count, the papers in which they appear (and how many times in the paper)\n",
    "\n",
    "```python\n",
    "keywords['word'] = {\n",
    "    'counts':counts,\n",
    "    'papers': {'paperID':countsPaper,...,}\n",
    "}\n",
    "```\n"
   ]
  },
  {
   "cell_type": "code",
   "execution_count": null,
   "metadata": {},
   "outputs": [],
   "source": [
    "#make the dictionary and fill it by descending frequency and alphabetical order\n",
    "keywords = {\n",
    "    word:{\n",
    "        'count':keywords_count.get(word,0),\n",
    "        'papers_count':dict( keywords_papers.get(word,list())  )\n",
    "    }\n",
    "    for word in sorted(\n",
    "        keywords_count,key = lambda word : (-keywords_count[word],word)\n",
    "    )\n",
    "}"
   ]
  },
  {
   "cell_type": "markdown",
   "metadata": {},
   "source": [
    "### 6. Saving the dictionary in a JSON file"
   ]
  },
  {
   "cell_type": "code",
   "execution_count": null,
   "metadata": {},
   "outputs": [],
   "source": [
    "with open('keywords.json','w') as f:\n",
    "    json_str = json.dumps(keywords)\n",
    "    f.write(json_str)"
   ]
  },
  {
   "cell_type": "markdown",
   "metadata": {},
   "source": [
    "## Don't forget of deleting the .tex and source folders!!!!!!!!!"
   ]
  },
  {
   "cell_type": "code",
   "execution_count": null,
   "metadata": {},
   "outputs": [],
   "source": [
    "%%bash\n",
    "\n",
    "rm -r paper_source_files\n",
    "rm -r paper_TeX_files"
   ]
  }
 ],
 "metadata": {
  "kernelspec": {
   "display_name": "Python 3",
   "language": "python",
   "name": "python3"
  },
  "language_info": {
   "codemirror_mode": {
    "name": "ipython",
    "version": 3
   },
   "file_extension": ".py",
   "mimetype": "text/x-python",
   "name": "python",
   "nbconvert_exporter": "python",
   "pygments_lexer": "ipython3",
   "version": "3.7.7"
  }
 },
 "nbformat": 4,
 "nbformat_minor": 4
}
