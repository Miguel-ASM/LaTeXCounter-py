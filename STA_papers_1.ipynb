{
 "cells": [
  {
   "cell_type": "markdown",
   "metadata": {},
   "source": [
    "# Keyword analysis of STA papers Part 1\n",
    "\n",
    "In this notebook:\n",
    "\n",
    "- I make a query for the papers \n",
    "- I download them\n",
    "- I extract the .tex files\n",
    "- I make the word count in each of the .tex files.\n",
    "    \n",
    "Besides I keep a record of:\n",
    "- The results of the query, in ```papers.json```.\n",
    "- The arXiv IDs of the papers in ```papers.json``` that have a ```.tex```file, in ```papers_withTeX.txt```\n",
    "- The arXiv IDs of the papers in ```papers.json``` that don't have a ```.tex```file, in ```papers_withoutTeX.txt```\n",
    "- The raw word count data of the analyzed .TeX files, in ```raw_data.txt```"
   ]
  },
  {
   "cell_type": "code",
   "execution_count": 1,
   "metadata": {},
   "outputs": [],
   "source": [
    "import matplotlib.pyplot as plt # Plots\n",
    "import re #regular expresions\n",
    "import tarfile #open tarfiles\n",
    "import arxiv   #arXiv wrapper\n",
    "import numpy as np #numeric tools\n",
    "import json"
   ]
  },
  {
   "cell_type": "code",
   "execution_count": 2,
   "metadata": {},
   "outputs": [],
   "source": [
    "import os #Operative system utilities\n",
    "import sys #system\n",
    "import texcounter as TeX #my functions to work with .tex files"
   ]
  },
  {
   "cell_type": "markdown",
   "metadata": {},
   "source": [
    "## Get the data set from the arXiv API\n",
    "\n",
    "Use the arXiv API wrapper to make a queries of papers from the arXiv belonging to the category *quant_ph* (quantum physics)."
   ]
  },
  {
   "cell_type": "markdown",
   "metadata": {},
   "source": [
    "### List of query keywords"
   ]
  },
  {
   "cell_type": "code",
   "execution_count": 4,
   "metadata": {},
   "outputs": [],
   "source": [
    "query_keywords = [\n",
    "    'shortcuts'\n",
    "    ,'counterdiabatic'\n",
    "    ,'transitionless'\n",
    "]"
   ]
  },
  {
   "cell_type": "markdown",
   "metadata": {},
   "source": [
    "### Container of the results"
   ]
  },
  {
   "cell_type": "code",
   "execution_count": 5,
   "metadata": {},
   "outputs": [],
   "source": [
    "papers_list = []\n",
    "results = 0"
   ]
  },
  {
   "cell_type": "markdown",
   "metadata": {},
   "source": [
    "### Make a query for each query keyword"
   ]
  },
  {
   "cell_type": "code",
   "execution_count": 6,
   "metadata": {},
   "outputs": [
    {
     "name": "stdout",
     "output_type": "stream",
     "text": [
      "- Query of 'shortcuts' returned 10 results.\n",
      "\n",
      "- Query of 'counterdiabatic' returned 10 results.\n",
      "\n",
      "- Query of 'transitionless' returned 10 results.\n",
      "\n",
      "\n",
      "\n",
      "*** Returned 30 results in total **\n",
      "\n",
      "\n"
     ]
    }
   ],
   "source": [
    "for key_word in query_keywords:\n",
    "    results = len(papers_list)\n",
    "    query_string = 'all:{} AND cat:quant-ph'.format(key_word)\n",
    "    papers_list.extend(\n",
    "        arxiv.query(\n",
    "                    query=query_string,\n",
    "                    sort_by='submittedDate',\n",
    "                    max_results=10\n",
    "                   )\n",
    "    )\n",
    "    print('- Query of',\"'{}'\".format(key_word),'returned',len(papers_list)-results,'results.\\n')\n",
    "    \n",
    "results = len(papers_list)  \n",
    "print('\\n\\n*** Returned',results,'results in total **\\n\\n')"
   ]
  },
  {
   "cell_type": "markdown",
   "metadata": {},
   "source": [
    "### To avoid duplicates create a dictionary where the keys are arXiv IDs and the content is the query result"
   ]
  },
  {
   "cell_type": "code",
   "execution_count": 7,
   "metadata": {},
   "outputs": [
    {
     "name": "stdout",
     "output_type": "stream",
     "text": [
      "Number of papers without duplicates: 28\n"
     ]
    }
   ],
   "source": [
    "papers_dict = dict()\n",
    "\n",
    "for paper in papers_list:\n",
    "    ID = paper['id'].split('/')[-1]\n",
    "    papers_dict[ID] = paper\n",
    "\n",
    "    \n",
    "print('Number of papers without duplicates:',len(papers_dict))\n"
   ]
  },
  {
   "cell_type": "markdown",
   "metadata": {},
   "source": [
    "### Some papers may have more than one version, keep only the newest version (TO DO)"
   ]
  },
  {
   "cell_type": "code",
   "execution_count": 8,
   "metadata": {},
   "outputs": [],
   "source": [
    "# # First, sorted the dictionary IDS\n",
    "# sorted_IDs = sorted(papers_dict.keys())\n",
    "# len(sorted_IDs)"
   ]
  },
  {
   "cell_type": "code",
   "execution_count": 9,
   "metadata": {},
   "outputs": [],
   "source": [
    "# # list of sorted IDs without version number\n",
    "# IDs_no_version = list(dict.fromkeys([ID[:ID.find('v')] for ID in sorted_IDs]))\n",
    "# len(IDs_no_version)"
   ]
  },
  {
   "cell_type": "markdown",
   "metadata": {},
   "source": [
    "### Save the dictionary with the results in a file"
   ]
  },
  {
   "cell_type": "code",
   "execution_count": 10,
   "metadata": {},
   "outputs": [],
   "source": [
    "# .json file\n",
    "json_file = json.dumps(papers_dict)\n",
    "with open(\"query_results.json\",\"w\") as f:\n",
    "    f.write(json_file)"
   ]
  },
  {
   "cell_type": "markdown",
   "metadata": {},
   "source": [
    "#### Optionally, show all the results"
   ]
  },
  {
   "cell_type": "code",
   "execution_count": 11,
   "metadata": {},
   "outputs": [],
   "source": [
    "# for paper in STA_papers:\n",
    "#     print('DATE:',paper.get('published','N.A.'))\n",
    "#     print('TITLE:',paper.get('title','UNTITLED'),'\\n\\n') "
   ]
  },
  {
   "cell_type": "markdown",
   "metadata": {},
   "source": [
    "## Make a directory for the source files of the papers and download them"
   ]
  },
  {
   "cell_type": "code",
   "execution_count": 12,
   "metadata": {},
   "outputs": [],
   "source": [
    "source_folder = 'paper_source_files/'"
   ]
  },
  {
   "cell_type": "code",
   "execution_count": 13,
   "metadata": {},
   "outputs": [],
   "source": [
    "%mkdir paper_source_files"
   ]
  },
  {
   "cell_type": "markdown",
   "metadata": {},
   "source": [
    "Use the arXiv API wrapper function `download` to download the papers tarfiles ([I contributed to this feature!!!!](https://github.com/lukasschwab/arxiv.py/graphs/contributors))"
   ]
  },
  {
   "cell_type": "code",
   "execution_count": 14,
   "metadata": {},
   "outputs": [],
   "source": [
    "# # This one takes a time to run, be patient\n",
    "\n",
    "# for paper in papers_dict:\n",
    "#     arxiv.download(papers_dict[paper],dirpath=source_folder,prefer_source_tarfile=True)"
   ]
  },
  {
   "cell_type": "markdown",
   "metadata": {},
   "source": [
    "### The names are too long, keep only the arXiv IDs"
   ]
  },
  {
   "cell_type": "code",
   "execution_count": 15,
   "metadata": {},
   "outputs": [],
   "source": [
    "for filename in os.listdir(source_folder):\n",
    "    if filename.endswith('.tar.gz'):\n",
    "        newname = re.sub('\\w+\\.tar\\.gz','tar.gz',filename)\n",
    "        os.rename(source_folder+filename,source_folder+newname)"
   ]
  },
  {
   "cell_type": "markdown",
   "metadata": {},
   "source": [
    "## Make a directory for the .tex files"
   ]
  },
  {
   "cell_type": "code",
   "execution_count": 16,
   "metadata": {},
   "outputs": [],
   "source": [
    "TeX_folder = 'paper_TeX_files/'"
   ]
  },
  {
   "cell_type": "code",
   "execution_count": 17,
   "metadata": {},
   "outputs": [],
   "source": [
    "%mkdir paper_TeX_files"
   ]
  },
  {
   "cell_type": "markdown",
   "metadata": {},
   "source": [
    "## Get the TeX files "
   ]
  },
  {
   "cell_type": "markdown",
   "metadata": {},
   "source": [
    "### function that returns the member in the tarball with TeX extension if it exists"
   ]
  },
  {
   "cell_type": "code",
   "execution_count": 18,
   "metadata": {},
   "outputs": [],
   "source": [
    "def returnTeXFileMember(tar_file):\n",
    "    for member in tar_file.getmembers():\n",
    "        if member.isfile() and member.name.lower().endswith('.tex'):\n",
    "            return member\n",
    "    return None"
   ]
  },
  {
   "cell_type": "markdown",
   "metadata": {},
   "source": [
    "## Loop over the files and extract them into ```paper_TeX_files/``` \n",
    "\n",
    "Some of the tarballs do not have a ```.tex``` file. Make a list of the ones that do not have one"
   ]
  },
  {
   "cell_type": "code",
   "execution_count": 19,
   "metadata": {},
   "outputs": [],
   "source": [
    "papers_withoutTeX = []\n",
    "papers_withTeX = []\n",
    "\n",
    "for filename in os.listdir(source_folder):\n",
    "    with tarfile.open(source_folder+filename,'r') as file:\n",
    "        #file = tarfile.open(source_folder+filename,'r')\n",
    "        TeXFileMember = returnTeXFileMember(file)\n",
    "        if TeXFileMember:\n",
    "            papers_withTeX.append(filename)\n",
    "            file.extract(TeXFileMember,path=TeX_folder)\n",
    "            #rename the file\n",
    "            os.rename(TeX_folder+TeXFileMember.name,TeX_folder+filename.replace('.tar.gz','.tex'))\n",
    "        else:\n",
    "            papers_withoutTeX.append(filename)\n",
    "        #file.close()"
   ]
  },
  {
   "cell_type": "markdown",
   "metadata": {},
   "source": [
    "Remove empty folders"
   ]
  },
  {
   "cell_type": "code",
   "execution_count": 20,
   "metadata": {},
   "outputs": [],
   "source": [
    "for el in os.listdir(TeX_folder):\n",
    "    if os.path.isdir(TeX_folder+el):\n",
    "        os.removedirs(TeX_folder+el)\n",
    "        print('removed:',el)"
   ]
  },
  {
   "cell_type": "markdown",
   "metadata": {},
   "source": [
    "### adapt the names in the lists for the papers to be just the arXiv id"
   ]
  },
  {
   "cell_type": "code",
   "execution_count": 21,
   "metadata": {},
   "outputs": [],
   "source": [
    "papers_withoutTeX = [ paper.replace('.tar.gz','') for paper in papers_withoutTeX ]\n",
    "papers_withTeX = [ paper.replace('.tar.gz','') for paper in papers_withTeX ]"
   ]
  },
  {
   "cell_type": "markdown",
   "metadata": {},
   "source": [
    "### Keep record of the papers that have .tex and the ones that don't"
   ]
  },
  {
   "cell_type": "code",
   "execution_count": 22,
   "metadata": {},
   "outputs": [],
   "source": [
    "with open(\"papers_withTeX.txt\",'w') as f:\n",
    "    f.write('\\n'.join( papers_withTeX ))\n",
    "\n",
    "with open(\"papers_withoutTeX.txt\",'w') as f:\n",
    "    f.write('\\n'.join( papers_withoutTeX ))"
   ]
  },
  {
   "cell_type": "markdown",
   "metadata": {},
   "source": [
    "## Analyze the papers"
   ]
  },
  {
   "cell_type": "markdown",
   "metadata": {},
   "source": [
    "### 1. Use a dictionary to put all the keywords and their counts"
   ]
  },
  {
   "cell_type": "code",
   "execution_count": 23,
   "metadata": {},
   "outputs": [],
   "source": [
    "keywords_count = dict()"
   ]
  },
  {
   "cell_type": "markdown",
   "metadata": {},
   "source": [
    "### 2. Use a dictionary that relates every word with a list of the pappers in which it appears"
   ]
  },
  {
   "cell_type": "code",
   "execution_count": 24,
   "metadata": {},
   "outputs": [],
   "source": [
    "keywords_papers = dict()"
   ]
  },
  {
   "cell_type": "markdown",
   "metadata": {},
   "source": [
    "### 3. Analyze all the .tex files"
   ]
  },
  {
   "cell_type": "code",
   "execution_count": 25,
   "metadata": {},
   "outputs": [
    {
     "name": "stdout",
     "output_type": "stream",
     "text": [
      "Failed:  2\n",
      "Successful:  26\n"
     ]
    }
   ],
   "source": [
    "failed = list()            #list of failed files\n",
    "succeeded = list()\n",
    "\n",
    "for TeX_file in os.listdir(TeX_folder):\n",
    "    #make sure only .tex files are treated: there are hidden files in the\n",
    "    #folder with unwanted extensions\n",
    "    if TeX_file.endswith('.tex'):\n",
    "        paperID = TeX_file.replace('.tex','')\n",
    "        try:\n",
    "            paper_words = TeX.analyzeTeXFile(TeX_folder+TeX_file,keywords_count)\n",
    "            for word in paper_words:\n",
    "                keywords_papers[word] = keywords_papers.get(word,list())\n",
    "                keywords_papers[word].append(paperID)\n",
    "            succeeded.append( paperID )\n",
    "        except:\n",
    "            failed.append( paperID )\n",
    "            #os.remove(TeX_folder+TeX_file) #A bit of a nasty hack\n",
    "          \n",
    "print('Failed: ',len(failed))\n",
    "print('Successful: ',len(succeeded))"
   ]
  },
  {
   "cell_type": "markdown",
   "metadata": {},
   "source": [
    "### 4. Put the contents of the keywords dictionary in a .json file"
   ]
  },
  {
   "cell_type": "code",
   "execution_count": 29,
   "metadata": {},
   "outputs": [],
   "source": [
    "json_str = json.dumps(keywords_count)\n",
    "with open('raw_word_count_data.json','w') as f_out:\n",
    "    f_out.write(json_str)"
   ]
  },
  {
   "cell_type": "markdown",
   "metadata": {},
   "source": [
    "### 5. Save the list of the papers that were analyzed"
   ]
  },
  {
   "cell_type": "code",
   "execution_count": 30,
   "metadata": {},
   "outputs": [],
   "source": [
    "with open('analyzed_papers.txt','w') as f_out:\n",
    "    f_out.write('\\n'.join(succeeded))"
   ]
  },
  {
   "cell_type": "markdown",
   "metadata": {},
   "source": [
    "### 6. Save the dictionary keeping track of the papers in which the keywords appear"
   ]
  },
  {
   "cell_type": "code",
   "execution_count": 31,
   "metadata": {},
   "outputs": [],
   "source": [
    "json_str = json.dumps(keywords_papers)\n",
    "with open(\"keywords_papers.json\",\"w\") as f:\n",
    "    f.write(json_str)"
   ]
  },
  {
   "cell_type": "markdown",
   "metadata": {},
   "source": [
    "## Don't forget of deleting the .tex and source folders!!!!!!!!!"
   ]
  },
  {
   "cell_type": "code",
   "execution_count": 32,
   "metadata": {},
   "outputs": [],
   "source": [
    "%%bash\n",
    "\n",
    "rm -r paper_source_files\n",
    "rm -r paper_TeX_files"
   ]
  }
 ],
 "metadata": {
  "kernelspec": {
   "display_name": "Python 3",
   "language": "python",
   "name": "python3"
  },
  "language_info": {
   "codemirror_mode": {
    "name": "ipython",
    "version": 3
   },
   "file_extension": ".py",
   "mimetype": "text/x-python",
   "name": "python",
   "nbconvert_exporter": "python",
   "pygments_lexer": "ipython3",
   "version": "3.7.6"
  }
 },
 "nbformat": 4,
 "nbformat_minor": 4
}
