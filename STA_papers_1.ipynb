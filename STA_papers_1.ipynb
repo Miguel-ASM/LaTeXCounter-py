{
 "cells": [
  {
   "cell_type": "markdown",
   "metadata": {},
   "source": [
    "# Keyword analysis of STA papers Part 1\n",
    "\n",
    "In this notebook:\n",
    "\n",
    "- I make a query for the papers \n",
    "- I download them\n",
    "- I extract the .tex files\n",
    "- I make the word count in each of the .tex files.\n",
    "    \n",
    "Besides I keep a record of:\n",
    "- The results of the query, in ```papers.json```.\n",
    "- The arXiv IDs of the papers in ```papers.json``` that have a ```.tex```file, in ```papers_withTeX.txt```\n",
    "- The arXiv IDs of the papers in ```papers.json``` that don't have a ```.tex```file, in ```papers_withoutTeX.txt```\n",
    "- The raw word count data of the analyzed .TeX files, in ```raw_data.txt```"
   ]
  },
  {
   "cell_type": "code",
   "execution_count": 1,
   "metadata": {},
   "outputs": [],
   "source": [
    "import matplotlib.pyplot as plt # Plots\n",
    "import re #regular expresions\n",
    "import tarfile #open tarfiles\n",
    "import arxiv   #arXiv wrapper\n",
    "import numpy as np #numeric tools\n",
    "import json"
   ]
  },
  {
   "cell_type": "code",
   "execution_count": 2,
   "metadata": {},
   "outputs": [],
   "source": [
    "import os #Operative system utilities\n",
    "import sys #system\n",
    "#sys.path.insert(0,'LaTeXCounter-py/')\n",
    "import LaTeXWordCounter as TeX #my functions to work with .tex files"
   ]
  },
  {
   "cell_type": "markdown",
   "metadata": {},
   "source": [
    "## Get the data set from the arXiv API\n",
    "\n",
    "Use the arXiv API wrapper to make a queries of papers from the arXiv belonging to the category *quant_ph* (quantum physics)."
   ]
  },
  {
   "cell_type": "markdown",
   "metadata": {},
   "source": [
    "### List of query keywords"
   ]
  },
  {
   "cell_type": "code",
   "execution_count": 3,
   "metadata": {},
   "outputs": [],
   "source": [
    "query_keywords = [\n",
    "    'shortcuts'\n",
    "    ,'counterdiabatic'\n",
    "    ,'transitionless'\n",
    "    ,'lewis-riesenfeld'\n",
    "    ,'superadiabatic'\n",
    "    ,'fast forward'\n",
    "    ,'adiabaticity'\n",
    "]"
   ]
  },
  {
   "cell_type": "markdown",
   "metadata": {},
   "source": [
    "### Container of the results"
   ]
  },
  {
   "cell_type": "code",
   "execution_count": 43,
   "metadata": {},
   "outputs": [],
   "source": [
    "papers_list = []\n",
    "results = 0"
   ]
  },
  {
   "cell_type": "markdown",
   "metadata": {},
   "source": [
    "### Make a query for each query keyword"
   ]
  },
  {
   "cell_type": "code",
   "execution_count": 44,
   "metadata": {},
   "outputs": [
    {
     "name": "stdout",
     "output_type": "stream",
     "text": [
      "- Query of 'shortcuts' returned 216 results.\n",
      "\n",
      "- Query of 'counterdiabatic' returned 40 results.\n",
      "\n",
      "- Query of 'transitionless' returned 61 results.\n",
      "\n",
      "- Query of 'lewis-riesenfeld' returned 0 results.\n",
      "\n",
      "- Query of 'superadiabatic' returned 37 results.\n",
      "\n",
      "- Query of 'fast forward' returned 500 results.\n",
      "\n",
      "- Query of 'adiabaticity' returned 500 results.\n",
      "\n",
      "\n",
      "\n",
      "*** Returned 1354 results in total **\n",
      "\n",
      "\n"
     ]
    }
   ],
   "source": [
    "for key_word in query_keywords:\n",
    "    results = len(papers_list)\n",
    "    query_string = 'all:{} AND cat:quant-ph'.format(key_word)\n",
    "    papers_list.extend(\n",
    "        arxiv.query(\n",
    "                    query=query_string,\n",
    "                    sort_by='submittedDate',\n",
    "                    max_results=500\n",
    "                   )\n",
    "    )\n",
    "    print('- Query of',\"'{}'\".format(key_word),'returned',len(papers_list)-results,'results.\\n')\n",
    "    \n",
    "results = len(papers_list)  \n",
    "print('\\n\\n*** Returned',results,'results in total **\\n\\n')"
   ]
  },
  {
   "cell_type": "markdown",
   "metadata": {},
   "source": [
    "### To avoid duplicates create a dictionary where the keys are arXiv IDs and the content is the query result"
   ]
  },
  {
   "cell_type": "code",
   "execution_count": 95,
   "metadata": {},
   "outputs": [
    {
     "name": "stdout",
     "output_type": "stream",
     "text": [
      "Number of papers without duplicates: 1191\n"
     ]
    }
   ],
   "source": [
    "papers_dict = dict()\n",
    "\n",
    "for paper in papers_list:\n",
    "    ID = paper['id'].split('/')[-1]\n",
    "    papers_dict[ID] = paper\n",
    "\n",
    "    \n",
    "print('Number of papers without duplicates:',len(papers_dict))\n"
   ]
  },
  {
   "cell_type": "markdown",
   "metadata": {},
   "source": [
    "### Some papers may have more than one version, keep only the newest version (TO DO)"
   ]
  },
  {
   "cell_type": "code",
   "execution_count": 96,
   "metadata": {},
   "outputs": [
    {
     "data": {
      "text/plain": [
       "1191"
      ]
     },
     "execution_count": 96,
     "metadata": {},
     "output_type": "execute_result"
    }
   ],
   "source": [
    "# # First, sorted the dictionary IDS\n",
    "# sorted_IDs = sorted(papers_dict.keys())\n",
    "# len(sorted_IDs)"
   ]
  },
  {
   "cell_type": "code",
   "execution_count": 97,
   "metadata": {},
   "outputs": [
    {
     "data": {
      "text/plain": [
       "1191"
      ]
     },
     "execution_count": 97,
     "metadata": {},
     "output_type": "execute_result"
    }
   ],
   "source": [
    "# # list of sorted IDs without version number\n",
    "# IDs_no_version = list(dict.fromkeys([ID[:ID.find('v')] for ID in sorted_IDs]))\n",
    "# len(IDs_no_version)"
   ]
  },
  {
   "cell_type": "markdown",
   "metadata": {},
   "source": [
    "### Save the dictionary with the results in a file"
   ]
  },
  {
   "cell_type": "code",
   "execution_count": 103,
   "metadata": {},
   "outputs": [],
   "source": [
    "# .json file\n",
    "json_file = json.dumps(papers_dict)\n",
    "with open(\"papers.json\",\"w\") as f:\n",
    "    f.write(json_file)"
   ]
  },
  {
   "cell_type": "markdown",
   "metadata": {},
   "source": [
    "#### Optionally, show all the results"
   ]
  },
  {
   "cell_type": "code",
   "execution_count": 9,
   "metadata": {},
   "outputs": [],
   "source": [
    "# for paper in STA_papers:\n",
    "#     print('DATE:',paper.get('published','N.A.'))\n",
    "#     print('TITLE:',paper.get('title','UNTITLED'),'\\n\\n') "
   ]
  },
  {
   "cell_type": "markdown",
   "metadata": {},
   "source": [
    "## Make a directory for the source files of the papers and download them"
   ]
  },
  {
   "cell_type": "code",
   "execution_count": 8,
   "metadata": {},
   "outputs": [],
   "source": [
    "source_folder = 'paper_source_files/'"
   ]
  },
  {
   "cell_type": "code",
   "execution_count": 108,
   "metadata": {},
   "outputs": [],
   "source": [
    "%mkdir paper_source_files"
   ]
  },
  {
   "cell_type": "markdown",
   "metadata": {},
   "source": [
    "Use the arXiv API wrapper function `download` to download the papers tarfiles ([I contributed to this feature!!!!](https://github.com/lukasschwab/arxiv.py/graphs/contributors))"
   ]
  },
  {
   "cell_type": "code",
   "execution_count": 109,
   "metadata": {},
   "outputs": [],
   "source": [
    "# # This one takes a time to run, be patient\n",
    "\n",
    "# for paper in papers_dict:\n",
    "#     arxiv.download(papers_dict[paper],dirpath=source_folder,prefer_source_tarfile=True)"
   ]
  },
  {
   "cell_type": "markdown",
   "metadata": {},
   "source": [
    "### The names are too long, keep only the arXiv IDs"
   ]
  },
  {
   "cell_type": "code",
   "execution_count": 146,
   "metadata": {},
   "outputs": [],
   "source": [
    "for filename in os.listdir(source_folder):\n",
    "    if filename.endswith('.tar.gz'):\n",
    "        newname = re.sub('\\w+\\.tar\\.gz','tar.gz',filename)\n",
    "        os.rename(source_folder+filename,source_folder+newname)"
   ]
  },
  {
   "cell_type": "markdown",
   "metadata": {},
   "source": [
    "## Make a directory for the .tex files"
   ]
  },
  {
   "cell_type": "code",
   "execution_count": 4,
   "metadata": {},
   "outputs": [],
   "source": [
    "TeX_folder = 'paper_TeX_files/'"
   ]
  },
  {
   "cell_type": "code",
   "execution_count": 5,
   "metadata": {},
   "outputs": [],
   "source": [
    "%mkdir paper_TeX_files"
   ]
  },
  {
   "cell_type": "markdown",
   "metadata": {},
   "source": [
    "## Get the TeX files "
   ]
  },
  {
   "cell_type": "markdown",
   "metadata": {},
   "source": [
    "### function that returns the member in the tarball with TeX extension if it exists"
   ]
  },
  {
   "cell_type": "code",
   "execution_count": 6,
   "metadata": {},
   "outputs": [],
   "source": [
    "def returnTeXFileMember(tar_file):\n",
    "    for member in tar_file.getmembers():\n",
    "        if member.isfile() and member.name.lower().endswith('.tex'):\n",
    "            return member\n",
    "    return None"
   ]
  },
  {
   "cell_type": "markdown",
   "metadata": {},
   "source": [
    "## Loop over the files and extract them into ```paper_TeX_files/``` \n",
    "\n",
    "Some of the tarballs do not have a ```.tex``` file. Make a list of the ones that do not have one"
   ]
  },
  {
   "cell_type": "code",
   "execution_count": 9,
   "metadata": {},
   "outputs": [],
   "source": [
    "papers_withoutTeX = []\n",
    "papers_withTeX = []\n",
    "\n",
    "for filename in os.listdir(source_folder):\n",
    "    file = tarfile.open(source_folder+filename,'r')\n",
    "    TeXFileMember = returnTeXFileMember(file)\n",
    "    if TeXFileMember:\n",
    "        papers_withTeX.append(filename)\n",
    "        file.extract(TeXFileMember,path=TeX_folder)\n",
    "        #rename the file\n",
    "        os.rename(TeX_folder+TeXFileMember.name,TeX_folder+filename.replace('.tar.gz','.tex'))\n",
    "    else:\n",
    "        papers_withoutTeX.append(filename)\n",
    "    file.close()"
   ]
  },
  {
   "cell_type": "markdown",
   "metadata": {},
   "source": [
    "Remove empty folders"
   ]
  },
  {
   "cell_type": "code",
   "execution_count": 10,
   "metadata": {},
   "outputs": [
    {
     "name": "stdout",
     "output_type": "stream",
     "text": [
      "removed: QIP Arxiv\n",
      "removed: STA Opt Latt Arxiv2 TBU\n",
      "removed: Homological Description of the Quantum Adiabatic  EvolutionWith a View Toward Quantum Computations - Version 2 \n",
      "removed: debasis\n",
      "removed: Arxiv STA Fermi v2 compressed\n",
      "removed: Del Campo et al Chapter TBS RESUB arxiv\n",
      "removed: arxiv - Copy\n",
      "removed: Appendices\n",
      "removed: SYK Complexity arxiv2\n",
      "removed: Optimal eigenstate filtering with application to solving quantum linear systems\n",
      "removed: chapter01\n",
      "removed: tikz\n",
      "removed: A Novel Algebraic Geometry Compiling Framework for Adiabatic Quantum Computations\n",
      "removed: Ambrosiano\n",
      "removed: arXiv v2\n",
      "removed: Definitions\n",
      "removed: Arxiv submission\n"
     ]
    }
   ],
   "source": [
    "for el in os.listdir(TeX_folder):\n",
    "    if os.path.isdir(TeX_folder+el):\n",
    "        os.removedirs(TeX_folder+el)\n",
    "        print('removed:',el)"
   ]
  },
  {
   "cell_type": "markdown",
   "metadata": {},
   "source": [
    "### adapt the names in the lists for the papers to be just the arXiv id"
   ]
  },
  {
   "cell_type": "code",
   "execution_count": 11,
   "metadata": {},
   "outputs": [],
   "source": [
    "papers_withoutTeX = [ paper.replace('.tar.gz','') for paper in papers_withoutTeX ]\n",
    "papers_withTeX = [ paper.replace('.tar.gz','') for paper in papers_withTeX ]"
   ]
  },
  {
   "cell_type": "markdown",
   "metadata": {},
   "source": [
    "### Keep record of the papers that have .tex and the ones that don't"
   ]
  },
  {
   "cell_type": "code",
   "execution_count": 12,
   "metadata": {},
   "outputs": [],
   "source": [
    "with open(\"papers_withTeX.txt\",'w') as f:\n",
    "    f.write('\\n'.join( papers_withTeX ))\n",
    "\n",
    "with open(\"papers_withoutTeX.txt\",'w') as f:\n",
    "    f.write('\\n'.join( papers_withoutTeX ))"
   ]
  },
  {
   "cell_type": "markdown",
   "metadata": {},
   "source": [
    "## Analyze the papers"
   ]
  },
  {
   "cell_type": "markdown",
   "metadata": {},
   "source": [
    "### 1. Use a dictionary to put all the keywords and their counts"
   ]
  },
  {
   "cell_type": "code",
   "execution_count": 14,
   "metadata": {},
   "outputs": [],
   "source": [
    "keywords = dict()"
   ]
  },
  {
   "cell_type": "markdown",
   "metadata": {},
   "source": [
    "### 2. Analyze all the .tex files"
   ]
  },
  {
   "cell_type": "code",
   "execution_count": 15,
   "metadata": {},
   "outputs": [
    {
     "name": "stdout",
     "output_type": "stream",
     "text": [
      "Failed:  117\n",
      "Successful:  945\n"
     ]
    }
   ],
   "source": [
    "succesful_attempts = 0 #count of analyzed files\n",
    "failed_attempts = 0    #count of files that throwed an exception when analyzing them\n",
    "failed = []            #list of failed files\n",
    "\n",
    "for TeX_file in os.listdir(TeX_folder):\n",
    "    #make sure only .tex files are treated: there are hidden files in the\n",
    "    #folder with unwanted extensions\n",
    "    if TeX_file.endswith('.tex'):\n",
    "        try:\n",
    "            TeX.analyzeTeXFile(TeX_folder+TeX_file,keywords)\n",
    "            succesful_attempts +=1\n",
    "        except:\n",
    "            failed_attempts +=1\n",
    "            failed.append( TeX_file.replace('.tex','') )\n",
    "            #os.remove(TeX_folder+TeX_file) #A bit of a nasty hack\n",
    "            \n",
    "print('Failed: ',failed_attempts)\n",
    "print('Successful: ',succesful_attempts)"
   ]
  },
  {
   "cell_type": "markdown",
   "metadata": {},
   "source": [
    "### 3.Put the contents of the keywords dictionary in a .txt file"
   ]
  },
  {
   "cell_type": "code",
   "execution_count": 16,
   "metadata": {},
   "outputs": [],
   "source": [
    "with open('raw_data.txt','w') as f_out:\n",
    "    for entry in sorted(keywords, key = lambda k:(-keywords[k],k)):\n",
    "        line = '{0}: {1}\\n'.format(entry,keywords[entry])\n",
    "        f_out.write(line)"
   ]
  },
  {
   "cell_type": "markdown",
   "metadata": {},
   "source": [
    "## Don't forget of deleting the .tex and source folders!!!!!!!!!"
   ]
  }
 ],
 "metadata": {
  "kernelspec": {
   "display_name": "Python 3",
   "language": "python",
   "name": "python3"
  },
  "language_info": {
   "codemirror_mode": {
    "name": "ipython",
    "version": 3
   },
   "file_extension": ".py",
   "mimetype": "text/x-python",
   "name": "python",
   "nbconvert_exporter": "python",
   "pygments_lexer": "ipython3",
   "version": "3.7.6"
  }
 },
 "nbformat": 4,
 "nbformat_minor": 4
}
